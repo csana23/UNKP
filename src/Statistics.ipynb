{
 "cells": [
  {
   "cell_type": "markdown",
   "metadata": {},
   "source": [
    "# Statistics "
   ]
  },
  {
   "cell_type": "code",
   "execution_count": 9,
   "metadata": {},
   "outputs": [],
   "source": [
    "from scipy import stats\n",
    "import pandas as pd\n",
    "import numpy as np\n",
    "from cassandra.cluster import Cluster\n",
    "from cassandra.metadata import KeyspaceMetadata"
   ]
  },
  {
   "cell_type": "code",
   "execution_count": 10,
   "metadata": {},
   "outputs": [],
   "source": [
    "cluster = Cluster([\"172.20.16.137\"], port=30241)\n",
    "keyspace_name = \"sensorhub\"\n",
    "session = cluster.connect(keyspace_name)"
   ]
  },
  {
   "cell_type": "code",
   "execution_count": 16,
   "metadata": {},
   "outputs": [],
   "source": [
    "query = \"SELECT sensor, datum, relativehumidity, suntime, temperatureat2meter FROM erti_new WHERE datum >= '2017-01-01 00:00:00' AND  datum <= '2017-01-31 23:59:00' AND sensor=1\"\n",
    "df = pd.DataFrame(list(session.execute(query)))"
   ]
  },
  {
   "cell_type": "code",
   "execution_count": 17,
   "metadata": {},
   "outputs": [
    {
     "data": {
      "text/html": [
       "<div>\n",
       "<style scoped>\n",
       "    .dataframe tbody tr th:only-of-type {\n",
       "        vertical-align: middle;\n",
       "    }\n",
       "\n",
       "    .dataframe tbody tr th {\n",
       "        vertical-align: top;\n",
       "    }\n",
       "\n",
       "    .dataframe thead th {\n",
       "        text-align: right;\n",
       "    }\n",
       "</style>\n",
       "<table border=\"1\" class=\"dataframe\">\n",
       "  <thead>\n",
       "    <tr style=\"text-align: right;\">\n",
       "      <th></th>\n",
       "      <th>sensor</th>\n",
       "      <th>datum</th>\n",
       "      <th>relativehumidity</th>\n",
       "      <th>suntime</th>\n",
       "      <th>temperatureat2meter</th>\n",
       "    </tr>\n",
       "  </thead>\n",
       "  <tbody>\n",
       "    <tr>\n",
       "      <th>0</th>\n",
       "      <td>1</td>\n",
       "      <td>2017-01-01 00:00:01</td>\n",
       "      <td>85.5</td>\n",
       "      <td>0.0</td>\n",
       "      <td>-7.2</td>\n",
       "    </tr>\n",
       "    <tr>\n",
       "      <th>1</th>\n",
       "      <td>1</td>\n",
       "      <td>2017-01-01 00:10:01</td>\n",
       "      <td>85.6</td>\n",
       "      <td>0.0</td>\n",
       "      <td>-7.2</td>\n",
       "    </tr>\n",
       "    <tr>\n",
       "      <th>2</th>\n",
       "      <td>1</td>\n",
       "      <td>2017-01-01 00:20:01</td>\n",
       "      <td>85.9</td>\n",
       "      <td>0.0</td>\n",
       "      <td>-7.1</td>\n",
       "    </tr>\n",
       "    <tr>\n",
       "      <th>3</th>\n",
       "      <td>1</td>\n",
       "      <td>2017-01-01 00:40:11</td>\n",
       "      <td>85.8</td>\n",
       "      <td>0.0</td>\n",
       "      <td>-8.4</td>\n",
       "    </tr>\n",
       "    <tr>\n",
       "      <th>4</th>\n",
       "      <td>1</td>\n",
       "      <td>2017-01-01 00:50:01</td>\n",
       "      <td>86.5</td>\n",
       "      <td>0.0</td>\n",
       "      <td>-7.9</td>\n",
       "    </tr>\n",
       "  </tbody>\n",
       "</table>\n",
       "</div>"
      ],
      "text/plain": [
       "   sensor               datum  relativehumidity  suntime  temperatureat2meter\n",
       "0       1 2017-01-01 00:00:01              85.5      0.0                 -7.2\n",
       "1       1 2017-01-01 00:10:01              85.6      0.0                 -7.2\n",
       "2       1 2017-01-01 00:20:01              85.9      0.0                 -7.1\n",
       "3       1 2017-01-01 00:40:11              85.8      0.0                 -8.4\n",
       "4       1 2017-01-01 00:50:01              86.5      0.0                 -7.9"
      ]
     },
     "execution_count": 17,
     "metadata": {},
     "output_type": "execute_result"
    }
   ],
   "source": [
    "df.head()"
   ]
  },
  {
   "cell_type": "code",
   "execution_count": 22,
   "metadata": {},
   "outputs": [
    {
     "data": {
      "text/plain": [
       "False"
      ]
     },
     "execution_count": 22,
     "metadata": {},
     "output_type": "execute_result"
    }
   ],
   "source": [
    "df.isnull().values.any()"
   ]
  },
  {
   "cell_type": "markdown",
   "metadata": {},
   "source": [
    "## Pearson correlation coefficient"
   ]
  },
  {
   "cell_type": "code",
   "execution_count": 23,
   "metadata": {},
   "outputs": [
    {
     "data": {
      "text/plain": [
       "(0.040186248878884494, 0.012677006707960455)"
      ]
     },
     "execution_count": 23,
     "metadata": {},
     "output_type": "execute_result"
    }
   ],
   "source": [
    "stats.pearsonr(df['relativehumidity'], df['temperatureat2meter'])"
   ]
  },
  {
   "cell_type": "code",
   "execution_count": 24,
   "metadata": {},
   "outputs": [
    {
     "data": {
      "text/plain": [
       "(nan, 1.0)"
      ]
     },
     "execution_count": 24,
     "metadata": {},
     "output_type": "execute_result"
    }
   ],
   "source": [
    "stats.pearsonr(df['suntime'], df['temperatureat2meter'])"
   ]
  },
  {
   "cell_type": "code",
   "execution_count": 25,
   "metadata": {},
   "outputs": [
    {
     "data": {
      "text/plain": [
       "0       0.0\n",
       "1       0.0\n",
       "2       0.0\n",
       "3       0.0\n",
       "4       0.0\n",
       "5       0.0\n",
       "6       0.0\n",
       "7       0.0\n",
       "8       0.0\n",
       "9       0.0\n",
       "10      0.0\n",
       "11      0.0\n",
       "12      0.0\n",
       "13      0.0\n",
       "14      0.0\n",
       "15      0.0\n",
       "16      0.0\n",
       "17      0.0\n",
       "18      0.0\n",
       "19      0.0\n",
       "20      0.0\n",
       "21      0.0\n",
       "22      0.0\n",
       "23      0.0\n",
       "24      0.0\n",
       "25      0.0\n",
       "26      0.0\n",
       "27      0.0\n",
       "28      0.0\n",
       "29      0.0\n",
       "       ... \n",
       "3817    0.0\n",
       "3818    0.0\n",
       "3819    0.0\n",
       "3820    0.0\n",
       "3821    0.0\n",
       "3822    0.0\n",
       "3823    0.0\n",
       "3824    0.0\n",
       "3825    0.0\n",
       "3826    0.0\n",
       "3827    0.0\n",
       "3828    0.0\n",
       "3829    0.0\n",
       "3830    0.0\n",
       "3831    0.0\n",
       "3832    0.0\n",
       "3833    0.0\n",
       "3834    0.0\n",
       "3835    0.0\n",
       "3836    0.0\n",
       "3837    0.0\n",
       "3838    0.0\n",
       "3839    0.0\n",
       "3840    0.0\n",
       "3841    0.0\n",
       "3842    0.0\n",
       "3843    0.0\n",
       "3844    0.0\n",
       "3845    0.0\n",
       "3846    0.0\n",
       "Name: suntime, Length: 3847, dtype: float64"
      ]
     },
     "execution_count": 25,
     "metadata": {},
     "output_type": "execute_result"
    }
   ],
   "source": [
    "df['suntime']"
   ]
  },
  {
   "cell_type": "code",
   "execution_count": 26,
   "metadata": {},
   "outputs": [
    {
     "data": {
      "text/plain": [
       "0.0"
      ]
     },
     "execution_count": 26,
     "metadata": {},
     "output_type": "execute_result"
    }
   ],
   "source": [
    "df['suntime'][2000]"
   ]
  },
  {
   "cell_type": "code",
   "execution_count": 27,
   "metadata": {},
   "outputs": [
    {
     "data": {
      "text/plain": [
       "2000    0.0\n",
       "2001    0.0\n",
       "2002    0.0\n",
       "2003    0.0\n",
       "2004    0.0\n",
       "2005    0.0\n",
       "2006    0.0\n",
       "2007    0.0\n",
       "2008    0.0\n",
       "2009    0.0\n",
       "2010    0.0\n",
       "2011    0.0\n",
       "2012    0.0\n",
       "2013    0.0\n",
       "2014    0.0\n",
       "2015    0.0\n",
       "2016    0.0\n",
       "2017    0.0\n",
       "2018    0.0\n",
       "2019    0.0\n",
       "2020    0.0\n",
       "2021    0.0\n",
       "2022    0.0\n",
       "2023    0.0\n",
       "2024    0.0\n",
       "2025    0.0\n",
       "2026    0.0\n",
       "2027    0.0\n",
       "2028    0.0\n",
       "2029    0.0\n",
       "       ... \n",
       "2070    0.0\n",
       "2071    0.0\n",
       "2072    0.0\n",
       "2073    0.0\n",
       "2074    0.0\n",
       "2075    0.0\n",
       "2076    0.0\n",
       "2077    0.0\n",
       "2078    0.0\n",
       "2079    0.0\n",
       "2080    0.0\n",
       "2081    0.0\n",
       "2082    0.0\n",
       "2083    0.0\n",
       "2084    0.0\n",
       "2085    0.0\n",
       "2086    0.0\n",
       "2087    0.0\n",
       "2088    0.0\n",
       "2089    0.0\n",
       "2090    0.0\n",
       "2091    0.0\n",
       "2092    0.0\n",
       "2093    0.0\n",
       "2094    0.0\n",
       "2095    0.0\n",
       "2096    0.0\n",
       "2097    0.0\n",
       "2098    0.0\n",
       "2099    0.0\n",
       "Name: suntime, Length: 100, dtype: float64"
      ]
     },
     "execution_count": 27,
     "metadata": {},
     "output_type": "execute_result"
    }
   ],
   "source": [
    "df['suntime'][2000:2100]"
   ]
  },
  {
   "cell_type": "markdown",
   "metadata": {},
   "source": [
    "Well, of course it's NaN, all of the suntime values are 0.0"
   ]
  },
  {
   "cell_type": "code",
   "execution_count": null,
   "metadata": {},
   "outputs": [],
   "source": []
  }
 ],
 "metadata": {
  "kernelspec": {
   "display_name": "Python 3",
   "language": "python",
   "name": "python3"
  },
  "language_info": {
   "codemirror_mode": {
    "name": "ipython",
    "version": 3
   },
   "file_extension": ".py",
   "mimetype": "text/x-python",
   "name": "python",
   "nbconvert_exporter": "python",
   "pygments_lexer": "ipython3",
   "version": "3.7.1"
  }
 },
 "nbformat": 4,
 "nbformat_minor": 2
}
