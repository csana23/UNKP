{
 "cells": [
  {
   "cell_type": "code",
   "execution_count": 5,
   "metadata": {},
   "outputs": [],
   "source": [
    "from netCDF4 import Dataset\n",
    "import pandas as pd\n",
    "import numpy"
   ]
  },
  {
   "cell_type": "code",
   "execution_count": 6,
   "metadata": {},
   "outputs": [],
   "source": [
    "dataset = Dataset(\"pr_EUR-11_MOHC-HadGEM2-ES_rcp45_r1i1p1_KNMI-RACMO22E_v2_mon_200601-201012.nc\", \"r\")"
   ]
  },
  {
   "cell_type": "code",
   "execution_count": 7,
   "metadata": {
    "scrolled": true
   },
   "outputs": [
    {
     "name": "stdout",
     "output_type": "stream",
     "text": [
      "OrderedDict([('bnds', <class 'netCDF4._netCDF4.Dimension'>: name = 'bnds', size = 2\n",
      "), ('rlon', <class 'netCDF4._netCDF4.Dimension'>: name = 'rlon', size = 424\n",
      "), ('rlat', <class 'netCDF4._netCDF4.Dimension'>: name = 'rlat', size = 412\n",
      "), ('time', <class 'netCDF4._netCDF4.Dimension'> (unlimited): name = 'time', size = 60\n",
      ")])\n"
     ]
    }
   ],
   "source": [
    "print(dataset.dimensions)"
   ]
  },
  {
   "cell_type": "code",
   "execution_count": 8,
   "metadata": {},
   "outputs": [
    {
     "name": "stdout",
     "output_type": "stream",
     "text": [
      "rotated_pole\n",
      "rlon\n",
      "lon\n",
      "rlat\n",
      "lat\n",
      "time\n",
      "time_bnds\n",
      "pr\n"
     ]
    }
   ],
   "source": [
    "for i in dataset.variables:\n",
    "    print(i)"
   ]
  },
  {
   "cell_type": "code",
   "execution_count": 12,
   "metadata": {},
   "outputs": [],
   "source": [
    "df = pd.DataFrame(list(dataset.variables))"
   ]
  },
  {
   "cell_type": "code",
   "execution_count": 13,
   "metadata": {},
   "outputs": [
    {
     "name": "stdout",
     "output_type": "stream",
     "text": [
      "<class 'netCDF4._netCDF4.Dataset'>\n",
      "root group (NETCDF4_CLASSIC data model, file format HDF5):\n",
      "    Conventions: CF-1.4\n",
      "    contact: Erik van Meijgaard, KNMI, Regional Climate division (vanmeijg@knmi.nl)\n",
      "    experiment: RCP4.5 run\n",
      "    experiment_id: rcp45\n",
      "    realization: 1\n",
      "    driving_experiment: MOHC-HadGEM2-ES,rcp45,r1i1p1\n",
      "    driving_model_id: MOHC-HadGEM2-ES\n",
      "    driving_model_ensemble_member: r1i1p1\n",
      "    driving_experiment_name: rcp45\n",
      "    institution: Royal Netherlands Meteorological Institute, De Bilt, The Netherlands\n",
      "    institute_id: KNMI\n",
      "    model_id: KNMI-RACMO22E\n",
      "    rcm_version_id: v2\n",
      "    references: http://www.knmi.nl/research/regional_climate\n",
      "    project_id: CORDEX\n",
      "    CORDEX_domain: EUR-11\n",
      "    product: output\n",
      "    frequency: mon\n",
      "    knmi_global_comment: HadGEM2-ES forced RACMO2 simulation with corrected latitudinal SST-remapping\n",
      "    knmi_model_comment: RACMO22E: baseline physics from ECMWF CY31r1; modifications include HTESSEL CY33r1, patch K-diffusion CY32r3, moist Turbulent Kinetic Energy, satellite inferred Leaf Area Index\n",
      "    knmi_version_comment: v2: replaces withdrawn results with RCMVersionID = v1 (this applies only to HadGEM2-ES forced RACMO2 simulations)\n",
      "    knmi_grib_path: mos.knmi.nl:/climreg/CXEUR12/eSSTcorr-v496-fHadGEM2-r1i1p1+rcp45/GRIB_data\n",
      "    creation_date: 2016-06-19T16:36:53Z\n",
      "    tracking_id: cbc96f5f-2b95-4050-a399-07e4044b102d\n",
      "    dimensions(sizes): bnds(2), rlon(424), rlat(412), time(60)\n",
      "    variables(dimensions): |S1 \u001b[4mrotated_pole\u001b[0m(), float64 \u001b[4mrlon\u001b[0m(rlon), float64 \u001b[4mlon\u001b[0m(rlat,rlon), float64 \u001b[4mrlat\u001b[0m(rlat), float64 \u001b[4mlat\u001b[0m(rlat,rlon), float64 \u001b[4mtime\u001b[0m(time), float64 \u001b[4mtime_bnds\u001b[0m(time,bnds), float32 \u001b[4mpr\u001b[0m(time,rlat,rlon)\n",
      "    groups: \n",
      "\n"
     ]
    }
   ],
   "source": [
    "print(dataset)"
   ]
  },
  {
   "cell_type": "code",
   "execution_count": 14,
   "metadata": {},
   "outputs": [
    {
     "data": {
      "text/html": [
       "<div>\n",
       "<style scoped>\n",
       "    .dataframe tbody tr th:only-of-type {\n",
       "        vertical-align: middle;\n",
       "    }\n",
       "\n",
       "    .dataframe tbody tr th {\n",
       "        vertical-align: top;\n",
       "    }\n",
       "\n",
       "    .dataframe thead th {\n",
       "        text-align: right;\n",
       "    }\n",
       "</style>\n",
       "<table border=\"1\" class=\"dataframe\">\n",
       "  <thead>\n",
       "    <tr style=\"text-align: right;\">\n",
       "      <th></th>\n",
       "      <th>0</th>\n",
       "    </tr>\n",
       "  </thead>\n",
       "  <tbody>\n",
       "    <tr>\n",
       "      <th>0</th>\n",
       "      <td>rotated_pole</td>\n",
       "    </tr>\n",
       "    <tr>\n",
       "      <th>1</th>\n",
       "      <td>rlon</td>\n",
       "    </tr>\n",
       "    <tr>\n",
       "      <th>2</th>\n",
       "      <td>lon</td>\n",
       "    </tr>\n",
       "    <tr>\n",
       "      <th>3</th>\n",
       "      <td>rlat</td>\n",
       "    </tr>\n",
       "    <tr>\n",
       "      <th>4</th>\n",
       "      <td>lat</td>\n",
       "    </tr>\n",
       "    <tr>\n",
       "      <th>5</th>\n",
       "      <td>time</td>\n",
       "    </tr>\n",
       "    <tr>\n",
       "      <th>6</th>\n",
       "      <td>time_bnds</td>\n",
       "    </tr>\n",
       "    <tr>\n",
       "      <th>7</th>\n",
       "      <td>pr</td>\n",
       "    </tr>\n",
       "  </tbody>\n",
       "</table>\n",
       "</div>"
      ],
      "text/plain": [
       "              0\n",
       "0  rotated_pole\n",
       "1          rlon\n",
       "2           lon\n",
       "3          rlat\n",
       "4           lat\n",
       "5          time\n",
       "6     time_bnds\n",
       "7            pr"
      ]
     },
     "execution_count": 14,
     "metadata": {},
     "output_type": "execute_result"
    }
   ],
   "source": [
    "df"
   ]
  },
  {
   "cell_type": "code",
   "execution_count": null,
   "metadata": {},
   "outputs": [],
   "source": []
  }
 ],
 "metadata": {
  "kernelspec": {
   "display_name": "Python 3",
   "language": "python",
   "name": "python3"
  },
  "language_info": {
   "codemirror_mode": {
    "name": "ipython",
    "version": 3
   },
   "file_extension": ".py",
   "mimetype": "text/x-python",
   "name": "python",
   "nbconvert_exporter": "python",
   "pygments_lexer": "ipython3",
   "version": "3.7.1"
  }
 },
 "nbformat": 4,
 "nbformat_minor": 2
}
