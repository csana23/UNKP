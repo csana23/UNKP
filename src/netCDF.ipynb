{
 "cells": [
  {
   "cell_type": "code",
   "execution_count": 1,
   "metadata": {},
   "outputs": [],
   "source": [
    "from netCDF4 import Dataset\n",
    "import pandas as pd\n",
    "import numpy\n",
    "from cdo import *\n",
    "import xarray as xr\n",
    "import cartopy.crs as ccrs\n",
    "import matplotlib.pyplot as plt"
   ]
  },
  {
   "cell_type": "code",
   "execution_count": 2,
   "metadata": {},
   "outputs": [],
   "source": [
    "dataset = Dataset(\"testCDF.nc\", \"r\")"
   ]
  },
  {
   "cell_type": "code",
   "execution_count": 3,
   "metadata": {
    "scrolled": true
   },
   "outputs": [
    {
     "name": "stdout",
     "output_type": "stream",
     "text": [
      "OrderedDict([('bnds', <class 'netCDF4._netCDF4.Dimension'>: name = 'bnds', size = 2\n",
      "), ('rlon', <class 'netCDF4._netCDF4.Dimension'>: name = 'rlon', size = 424\n",
      "), ('rlat', <class 'netCDF4._netCDF4.Dimension'>: name = 'rlat', size = 412\n",
      "), ('time', <class 'netCDF4._netCDF4.Dimension'> (unlimited): name = 'time', size = 60\n",
      ")])\n"
     ]
    }
   ],
   "source": [
    "print(dataset.dimensions)"
   ]
  },
  {
   "cell_type": "code",
   "execution_count": 4,
   "metadata": {},
   "outputs": [
    {
     "name": "stdout",
     "output_type": "stream",
     "text": [
      "rotated_pole\n",
      "rlon\n",
      "lon\n",
      "rlat\n",
      "lat\n",
      "time\n",
      "time_bnds\n",
      "pr\n"
     ]
    }
   ],
   "source": [
    "for i in dataset.variables:\n",
    "    print(i)"
   ]
  },
  {
   "cell_type": "code",
   "execution_count": 5,
   "metadata": {},
   "outputs": [
    {
     "name": "stdout",
     "output_type": "stream",
     "text": [
      "<class 'netCDF4._netCDF4.Dataset'>\n",
      "root group (NETCDF4_CLASSIC data model, file format HDF5):\n",
      "    Conventions: CF-1.4\n",
      "    contact: Erik van Meijgaard, KNMI, Regional Climate division (vanmeijg@knmi.nl)\n",
      "    experiment: RCP4.5 run\n",
      "    experiment_id: rcp45\n",
      "    realization: 1\n",
      "    driving_experiment: MOHC-HadGEM2-ES,rcp45,r1i1p1\n",
      "    driving_model_id: MOHC-HadGEM2-ES\n",
      "    driving_model_ensemble_member: r1i1p1\n",
      "    driving_experiment_name: rcp45\n",
      "    institution: Royal Netherlands Meteorological Institute, De Bilt, The Netherlands\n",
      "    institute_id: KNMI\n",
      "    model_id: KNMI-RACMO22E\n",
      "    rcm_version_id: v2\n",
      "    references: http://www.knmi.nl/research/regional_climate\n",
      "    project_id: CORDEX\n",
      "    CORDEX_domain: EUR-11\n",
      "    product: output\n",
      "    frequency: mon\n",
      "    knmi_global_comment: HadGEM2-ES forced RACMO2 simulation with corrected latitudinal SST-remapping\n",
      "    knmi_model_comment: RACMO22E: baseline physics from ECMWF CY31r1; modifications include HTESSEL CY33r1, patch K-diffusion CY32r3, moist Turbulent Kinetic Energy, satellite inferred Leaf Area Index\n",
      "    knmi_version_comment: v2: replaces withdrawn results with RCMVersionID = v1 (this applies only to HadGEM2-ES forced RACMO2 simulations)\n",
      "    knmi_grib_path: mos.knmi.nl:/climreg/CXEUR12/eSSTcorr-v496-fHadGEM2-r1i1p1+rcp45/GRIB_data\n",
      "    creation_date: 2016-06-19T16:36:53Z\n",
      "    tracking_id: cbc96f5f-2b95-4050-a399-07e4044b102d\n",
      "    dimensions(sizes): bnds(2), rlon(424), rlat(412), time(60)\n",
      "    variables(dimensions): |S1 \u001b[4mrotated_pole\u001b[0m(), float64 \u001b[4mrlon\u001b[0m(rlon), float64 \u001b[4mlon\u001b[0m(rlat,rlon), float64 \u001b[4mrlat\u001b[0m(rlat), float64 \u001b[4mlat\u001b[0m(rlat,rlon), float64 \u001b[4mtime\u001b[0m(time), float64 \u001b[4mtime_bnds\u001b[0m(time,bnds), float32 \u001b[4mpr\u001b[0m(time,rlat,rlon)\n",
      "    groups: \n",
      "\n"
     ]
    }
   ],
   "source": [
    "print(dataset)"
   ]
  },
  {
   "cell_type": "code",
   "execution_count": 6,
   "metadata": {},
   "outputs": [],
   "source": [
    "cdo = Cdo()"
   ]
  },
  {
   "cell_type": "code",
   "execution_count": 7,
   "metadata": {},
   "outputs": [
    {
     "data": {
      "text/plain": [
       "['-1 :       Date     Time   Level Gridsize    Miss :     Minimum        Mean     Maximum : Parameter name',\n",
       " '1 : 2006-01-16 00:00:00       0   174688       0 :      0.0000  3.1469e-05  0.00042979 : pr',\n",
       " '2 : 2006-02-16 00:00:00       0   174688       0 :      0.0000  2.9225e-05  0.00055680 : pr',\n",
       " '3 : 2006-03-16 00:00:00       0   174688       0 :      0.0000  2.1257e-05  0.00034298 : pr',\n",
       " '4 : 2006-04-16 00:00:00       0   174688       0 :      0.0000  1.5059e-05  0.00023509 : pr',\n",
       " '5 : 2006-05-16 00:00:00       0   174688       0 :      0.0000  1.5268e-05  0.00015464 : pr',\n",
       " '6 : 2006-06-16 00:00:00       0   174688       0 :      0.0000  1.7751e-05  0.00019486 : pr',\n",
       " '7 : 2006-07-16 00:00:00       0   174688       0 :      0.0000  1.3065e-05  0.00018736 : pr',\n",
       " '8 : 2006-08-16 00:00:00       0   174688       0 :      0.0000  1.7605e-05  0.00016702 : pr',\n",
       " '9 : 2006-09-16 00:00:00       0   174688       0 :      0.0000  2.3436e-05  0.00025481 : pr',\n",
       " '10 : 2006-10-16 00:00:00       0   174688       0 :      0.0000  2.7215e-05  0.00028551 : pr',\n",
       " '11 : 2006-11-16 00:00:00       0   174688       0 :      0.0000  3.3106e-05  0.00043728 : pr',\n",
       " '12 : 2006-12-16 00:00:00       0   174688       0 :      0.0000  3.4009e-05  0.00044165 : pr',\n",
       " '13 : 2007-01-16 00:00:00       0   174688       0 :      0.0000  2.8870e-05  0.00038074 : pr',\n",
       " '14 : 2007-02-16 00:00:00       0   174688       0 :      0.0000  2.8055e-05  0.00026122 : pr',\n",
       " '15 : 2007-03-16 00:00:00       0   174688       0 :  3.7606e-14  2.5631e-05  0.00045462 : pr',\n",
       " '16 : 2007-04-16 00:00:00       0   174688       0 :      0.0000  2.1457e-05  0.00035148 : pr',\n",
       " '17 : 2007-05-16 00:00:00       0   174688       0 :      0.0000  1.6183e-05  0.00016404 : pr',\n",
       " '18 : 2007-06-16 00:00:00       0   174688       0 :      0.0000  1.6490e-05  0.00024719 : pr',\n",
       " '19 : 2007-07-16 00:00:00       0   174688       0 :      0.0000  1.5748e-05  0.00016690 : pr',\n",
       " '20 : 2007-08-16 00:00:00       0   174688       0 :      0.0000  1.8088e-05  0.00017776 : pr',\n",
       " '21 : 2007-09-16 00:00:00       0   174688       0 :      0.0000  2.3927e-05  0.00026538 : pr',\n",
       " '22 : 2007-10-16 00:00:00       0   174688       0 :      0.0000  2.6807e-05  0.00028133 : pr',\n",
       " '23 : 2007-11-16 00:00:00       0   174688       0 :      0.0000  3.2165e-05  0.00026027 : pr',\n",
       " '24 : 2007-12-16 00:00:00       0   174688       0 :      0.0000  3.0696e-05  0.00055932 : pr',\n",
       " '25 : 2008-01-16 00:00:00       0   174688       0 :      0.0000  2.9947e-05  0.00044463 : pr',\n",
       " '26 : 2008-02-16 00:00:00       0   174688       0 :      0.0000  2.8732e-05  0.00034564 : pr',\n",
       " '27 : 2008-03-16 00:00:00       0   174688       0 :      0.0000  2.4070e-05  0.00033787 : pr',\n",
       " '28 : 2008-04-16 00:00:00       0   174688       0 :      0.0000  1.8678e-05  0.00024261 : pr',\n",
       " '29 : 2008-05-16 00:00:00       0   174688       0 :      0.0000  1.8342e-05  0.00018769 : pr',\n",
       " '30 : 2008-06-16 00:00:00       0   174688       0 :      0.0000  1.4781e-05  0.00016467 : pr',\n",
       " '31 : 2008-07-16 00:00:00       0   174688       0 :      0.0000  1.4768e-05  0.00014919 : pr',\n",
       " '32 : 2008-08-16 00:00:00       0   174688       0 :      0.0000  1.9195e-05  0.00017024 : pr',\n",
       " '33 : 2008-09-16 00:00:00       0   174688       0 :      0.0000  2.2081e-05  0.00024261 : pr',\n",
       " '34 : 2008-10-16 00:00:00       0   174688       0 :      0.0000  2.6135e-05  0.00031491 : pr',\n",
       " '35 : 2008-11-16 00:00:00       0   174688       0 :      0.0000  3.0416e-05  0.00034754 : pr',\n",
       " '36 : 2008-12-16 00:00:00       0   174688       0 :      0.0000  3.4932e-05  0.00049322 : pr',\n",
       " '37 : 2009-01-16 00:00:00       0   174688       0 :      0.0000  3.0467e-05  0.00052314 : pr',\n",
       " '38 : 2009-02-16 00:00:00       0   174688       0 :      0.0000  2.8291e-05  0.00040965 : pr',\n",
       " '39 : 2009-03-16 00:00:00       0   174688       0 :      0.0000  2.4549e-05  0.00029369 : pr',\n",
       " '40 : 2009-04-16 00:00:00       0   174688       0 :      0.0000  2.1117e-05  0.00024675 : pr',\n",
       " '41 : 2009-05-16 00:00:00       0   174688       0 :      0.0000  1.7284e-05  0.00028797 : pr',\n",
       " '42 : 2009-06-16 00:00:00       0   174688       0 :      0.0000  1.3978e-05  0.00013383 : pr',\n",
       " '43 : 2009-07-16 00:00:00       0   174688       0 :      0.0000  1.7036e-05  0.00016744 : pr',\n",
       " '44 : 2009-08-16 00:00:00       0   174688       0 :      0.0000  2.2048e-05  0.00026059 : pr',\n",
       " '45 : 2009-09-16 00:00:00       0   174688       0 :      0.0000  2.2980e-05  0.00031595 : pr',\n",
       " '46 : 2009-10-16 00:00:00       0   174688       0 :      0.0000  3.0143e-05  0.00041027 : pr',\n",
       " '47 : 2009-11-16 00:00:00       0   174688       0 :  3.8284e-14  2.6908e-05  0.00045582 : pr',\n",
       " '48 : 2009-12-16 00:00:00       0   174688       0 :      0.0000  3.2177e-05  0.00051079 : pr',\n",
       " '49 : 2010-01-16 00:00:00       0   174688       0 :      0.0000  3.0277e-05  0.00046884 : pr',\n",
       " '50 : 2010-02-16 00:00:00       0   174688       0 :      0.0000  3.1414e-05  0.00044989 : pr',\n",
       " '51 : 2010-03-16 00:00:00       0   174688       0 :      0.0000  2.4794e-05  0.00034155 : pr',\n",
       " '52 : 2010-04-16 00:00:00       0   174688       0 :      0.0000  1.6438e-05  0.00034772 : pr',\n",
       " '53 : 2010-05-16 00:00:00       0   174688       0 :      0.0000  1.6823e-05  0.00025927 : pr',\n",
       " '54 : 2010-06-16 00:00:00       0   174688       0 :      0.0000  1.4325e-05  0.00018071 : pr',\n",
       " '55 : 2010-07-16 00:00:00       0   174688       0 :      0.0000  1.3767e-05  0.00013205 : pr',\n",
       " '56 : 2010-08-16 00:00:00       0   174688       0 :      0.0000  1.8181e-05  0.00018280 : pr',\n",
       " '57 : 2010-09-16 00:00:00       0   174688       0 :      0.0000  2.3755e-05  0.00017195 : pr',\n",
       " '58 : 2010-10-16 00:00:00       0   174688       0 :      0.0000  3.5222e-05  0.00049998 : pr',\n",
       " '59 : 2010-11-16 00:00:00       0   174688       0 :      0.0000  2.9318e-05  0.00058455 : pr',\n",
       " '60 : 2010-12-16 00:00:00       0   174688       0 :      0.0000  3.1884e-05  0.00076261 : pr']"
      ]
     },
     "execution_count": 7,
     "metadata": {},
     "output_type": "execute_result"
    }
   ],
   "source": [
    "cdo.infov(input='testCDF.nc')"
   ]
  },
  {
   "cell_type": "code",
   "execution_count": 8,
   "metadata": {},
   "outputs": [],
   "source": [
    "dataDIR = 'testCDF.nc'\n",
    "DS = xr.open_dataset(dataDIR)"
   ]
  },
  {
   "cell_type": "markdown",
   "metadata": {},
   "source": [
    "## Displaying netCDF file"
   ]
  },
  {
   "cell_type": "code",
   "execution_count": 34,
   "metadata": {},
   "outputs": [
    {
     "data": {
      "image/png": "[encoded data removed]",
      "text/plain": [
       "<Figure size 432x288 with 1 Axes>"
      ]
     },
     "metadata": {
      "needs_background": "light"
     },
     "output_type": "display_data"
    },
    {
     "data": {
      "image/png": "[encoded data removed]",
      "text/plain": [
       "<Figure size 432x288 with 1 Axes>"
      ]
     },
     "metadata": {
      "needs_background": "light"
     },
     "output_type": "display_data"
    }
   ],
   "source": [
    "# xarray DS to pandas dataframe\n",
    "df = DS.to_dataframe()\n",
    "\n",
    "ax = plt.axes(projection=ccrs.PlateCarree())\n",
    "ax.coastlines()\n",
    "df.plot()\n",
    "plt.show()"
   ]
  },
  {
   "cell_type": "code",
   "execution_count": 36,
   "metadata": {},
   "outputs": [
    {
     "data": {
      "text/html": [
       "<div>\n",
       "<style scoped>\n",
       "    .dataframe tbody tr th:only-of-type {\n",
       "        vertical-align: middle;\n",
       "    }\n",
       "\n",
       "    .dataframe tbody tr th {\n",
       "        vertical-align: top;\n",
       "    }\n",
       "\n",
       "    .dataframe thead th {\n",
       "        text-align: right;\n",
       "    }\n",
       "</style>\n",
       "<table border=\"1\" class=\"dataframe\">\n",
       "  <thead>\n",
       "    <tr style=\"text-align: right;\">\n",
       "      <th></th>\n",
       "      <th></th>\n",
       "      <th></th>\n",
       "      <th></th>\n",
       "      <th>rotated_pole</th>\n",
       "      <th>lon</th>\n",
       "      <th>lat</th>\n",
       "      <th>time_bnds</th>\n",
       "      <th>pr</th>\n",
       "    </tr>\n",
       "    <tr>\n",
       "      <th>bnds</th>\n",
       "      <th>rlat</th>\n",
       "      <th>rlon</th>\n",
       "      <th>time</th>\n",
       "      <th></th>\n",
       "      <th></th>\n",
       "      <th></th>\n",
       "      <th></th>\n",
       "      <th></th>\n",
       "    </tr>\n",
       "  </thead>\n",
       "  <tbody>\n",
       "    <tr>\n",
       "      <th rowspan=\"5\" valign=\"top\">0</th>\n",
       "      <th rowspan=\"5\" valign=\"top\">-23.375</th>\n",
       "      <th rowspan=\"5\" valign=\"top\">-28.375</th>\n",
       "      <th>2006-01-16 00:00:00</th>\n",
       "      <td>b''</td>\n",
       "      <td>-10.06388</td>\n",
       "      <td>21.987829</td>\n",
       "      <td>2006-01-01 00:00:00</td>\n",
       "      <td>0.000000e+00</td>\n",
       "    </tr>\n",
       "    <tr>\n",
       "      <th>2006-02-16 00:00:00</th>\n",
       "      <td>b''</td>\n",
       "      <td>-10.06388</td>\n",
       "      <td>21.987829</td>\n",
       "      <td>2006-02-01 00:00:00</td>\n",
       "      <td>0.000000e+00</td>\n",
       "    </tr>\n",
       "    <tr>\n",
       "      <th>2006-03-16 00:00:00</th>\n",
       "      <td>b''</td>\n",
       "      <td>-10.06388</td>\n",
       "      <td>21.987829</td>\n",
       "      <td>2006-03-01 00:00:00</td>\n",
       "      <td>6.389868e-07</td>\n",
       "    </tr>\n",
       "    <tr>\n",
       "      <th>2006-04-16 00:00:00</th>\n",
       "      <td>b''</td>\n",
       "      <td>-10.06388</td>\n",
       "      <td>21.987829</td>\n",
       "      <td>2006-04-01 00:00:00</td>\n",
       "      <td>0.000000e+00</td>\n",
       "    </tr>\n",
       "    <tr>\n",
       "      <th>2006-05-16 00:00:00</th>\n",
       "      <td>b''</td>\n",
       "      <td>-10.06388</td>\n",
       "      <td>21.987829</td>\n",
       "      <td>2006-05-01 00:00:00</td>\n",
       "      <td>0.000000e+00</td>\n",
       "    </tr>\n",
       "  </tbody>\n",
       "</table>\n",
       "</div>"
      ],
      "text/plain": [
       "                                         rotated_pole       lon        lat  \\\n",
       "bnds rlat    rlon    time                                                    \n",
       "0    -23.375 -28.375 2006-01-16 00:00:00          b'' -10.06388  21.987829   \n",
       "                     2006-02-16 00:00:00          b'' -10.06388  21.987829   \n",
       "                     2006-03-16 00:00:00          b'' -10.06388  21.987829   \n",
       "                     2006-04-16 00:00:00          b'' -10.06388  21.987829   \n",
       "                     2006-05-16 00:00:00          b'' -10.06388  21.987829   \n",
       "\n",
       "                                                    time_bnds            pr  \n",
       "bnds rlat    rlon    time                                                    \n",
       "0    -23.375 -28.375 2006-01-16 00:00:00  2006-01-01 00:00:00  0.000000e+00  \n",
       "                     2006-02-16 00:00:00  2006-02-01 00:00:00  0.000000e+00  \n",
       "                     2006-03-16 00:00:00  2006-03-01 00:00:00  6.389868e-07  \n",
       "                     2006-04-16 00:00:00  2006-04-01 00:00:00  0.000000e+00  \n",
       "                     2006-05-16 00:00:00  2006-05-01 00:00:00  0.000000e+00  "
      ]
     },
     "execution_count": 36,
     "metadata": {},
     "output_type": "execute_result"
    }
   ],
   "source": [
    "df.head()"
   ]
  },
  {
   "cell_type": "code",
   "execution_count": null,
   "metadata": {},
   "outputs": [],
   "source": []
  }
 ],
 "metadata": {
  "kernelspec": {
   "display_name": "Python 3",
   "language": "python",
   "name": "python3"
  },
  "language_info": {
   "codemirror_mode": {
    "name": "ipython",
    "version": 3
   },
   "file_extension": ".py",
   "mimetype": "text/x-python",
   "name": "python",
   "nbconvert_exporter": "python",
   "pygments_lexer": "ipython3",
   "version": "3.7.1"
  }
 },
 "nbformat": 4,
 "nbformat_minor": 2
}
