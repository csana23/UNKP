{
 "cells": [
  {
   "cell_type": "code",
   "execution_count": 1,
   "metadata": {},
   "outputs": [],
   "source": [
    "import pandas as pd\n",
    "\n",
    "import matplotlib.pyplot as plt\n",
    "from matplotlib import style\n",
    "from matplotlib.dates import DateFormatter\n",
    "\n",
    "import numpy as np"
   ]
  },
  {
   "cell_type": "code",
   "execution_count": 2,
   "metadata": {},
   "outputs": [],
   "source": [
    "df = pd.read_csv('formatted_download.csv')"
   ]
  },
  {
   "cell_type": "code",
   "execution_count": 3,
   "metadata": {},
   "outputs": [
    {
     "data": {
      "text/html": [
       "<div>\n",
       "<style scoped>\n",
       "    .dataframe tbody tr th:only-of-type {\n",
       "        vertical-align: middle;\n",
       "    }\n",
       "\n",
       "    .dataframe tbody tr th {\n",
       "        vertical-align: top;\n",
       "    }\n",
       "\n",
       "    .dataframe thead th {\n",
       "        text-align: right;\n",
       "    }\n",
       "</style>\n",
       "<table border=\"1\" class=\"dataframe\">\n",
       "  <thead>\n",
       "    <tr style=\"text-align: right;\">\n",
       "      <th></th>\n",
       "      <th>Latitude</th>\n",
       "      <th>Longitude</th>\n",
       "      <th>Value</th>\n",
       "    </tr>\n",
       "  </thead>\n",
       "  <tbody>\n",
       "    <tr>\n",
       "      <th>0</th>\n",
       "      <td>90.0</td>\n",
       "      <td>0.00</td>\n",
       "      <td>249.149124</td>\n",
       "    </tr>\n",
       "    <tr>\n",
       "      <th>1</th>\n",
       "      <td>90.0</td>\n",
       "      <td>0.25</td>\n",
       "      <td>249.149124</td>\n",
       "    </tr>\n",
       "    <tr>\n",
       "      <th>2</th>\n",
       "      <td>90.0</td>\n",
       "      <td>0.50</td>\n",
       "      <td>249.149124</td>\n",
       "    </tr>\n",
       "    <tr>\n",
       "      <th>3</th>\n",
       "      <td>90.0</td>\n",
       "      <td>0.75</td>\n",
       "      <td>249.149124</td>\n",
       "    </tr>\n",
       "    <tr>\n",
       "      <th>4</th>\n",
       "      <td>90.0</td>\n",
       "      <td>1.00</td>\n",
       "      <td>249.149124</td>\n",
       "    </tr>\n",
       "  </tbody>\n",
       "</table>\n",
       "</div>"
      ],
      "text/plain": [
       "   Latitude  Longitude       Value\n",
       "0      90.0       0.00  249.149124\n",
       "1      90.0       0.25  249.149124\n",
       "2      90.0       0.50  249.149124\n",
       "3      90.0       0.75  249.149124\n",
       "4      90.0       1.00  249.149124"
      ]
     },
     "execution_count": 3,
     "metadata": {},
     "output_type": "execute_result"
    }
   ],
   "source": [
    "# Value is in Kelvin\n",
    "df.head()"
   ]
  },
  {
   "cell_type": "code",
   "execution_count": 4,
   "metadata": {},
   "outputs": [
    {
     "data": {
      "text/plain": [
       "array(['Latitude', 'Longitude', 'Value'], dtype=object)"
      ]
     },
     "execution_count": 4,
     "metadata": {},
     "output_type": "execute_result"
    }
   ],
   "source": [
    "df.columns.values"
   ]
  },
  {
   "cell_type": "code",
   "execution_count": 5,
   "metadata": {},
   "outputs": [],
   "source": [
    "df['Value_C'] = df['Value'] - 273.15"
   ]
  },
  {
   "cell_type": "code",
   "execution_count": 6,
   "metadata": {},
   "outputs": [
    {
     "data": {
      "text/plain": [
       "0         -24.000876\n",
       "1         -24.000876\n",
       "2         -24.000876\n",
       "3         -24.000876\n",
       "4         -24.000876\n",
       "5         -24.000876\n",
       "6         -24.000876\n",
       "7         -24.000876\n",
       "8         -24.000876\n",
       "9         -24.000876\n",
       "10        -24.000876\n",
       "11        -24.000876\n",
       "12        -24.000876\n",
       "13        -24.000876\n",
       "14        -24.000876\n",
       "15        -24.000876\n",
       "16        -24.000876\n",
       "17        -24.000876\n",
       "18        -24.000876\n",
       "19        -24.000876\n",
       "20        -24.000876\n",
       "21        -24.000876\n",
       "22        -24.000876\n",
       "23        -24.000876\n",
       "24        -24.000876\n",
       "25        -24.000876\n",
       "26        -24.000876\n",
       "27        -24.000876\n",
       "28        -24.000876\n",
       "29        -24.000876\n",
       "             ...    \n",
       "1038210   -12.674704\n",
       "1038211   -12.674704\n",
       "1038212   -12.674704\n",
       "1038213   -12.674704\n",
       "1038214   -12.674704\n",
       "1038215   -12.674704\n",
       "1038216   -12.674704\n",
       "1038217   -12.674704\n",
       "1038218   -12.674704\n",
       "1038219   -12.674704\n",
       "1038220   -12.674704\n",
       "1038221   -12.674704\n",
       "1038222   -12.674704\n",
       "1038223   -12.674704\n",
       "1038224   -12.674704\n",
       "1038225   -12.674704\n",
       "1038226   -12.674704\n",
       "1038227   -12.674704\n",
       "1038228   -12.674704\n",
       "1038229   -12.674704\n",
       "1038230   -12.674704\n",
       "1038231   -12.674704\n",
       "1038232   -12.674704\n",
       "1038233   -12.674704\n",
       "1038234   -12.674704\n",
       "1038235   -12.674704\n",
       "1038236   -12.674704\n",
       "1038237   -12.674704\n",
       "1038238   -12.674704\n",
       "1038239   -12.674704\n",
       "Name: Value_C, Length: 1038240, dtype: float64"
      ]
     },
     "execution_count": 6,
     "metadata": {},
     "output_type": "execute_result"
    }
   ],
   "source": [
    "df.Value_C"
   ]
  },
  {
   "cell_type": "code",
   "execution_count": 7,
   "metadata": {},
   "outputs": [],
   "source": [
    "x = np.arange(len(df))"
   ]
  },
  {
   "cell_type": "code",
   "execution_count": 8,
   "metadata": {},
   "outputs": [
    {
     "data": {
      "text/plain": [
       "array([      0,       1,       2, ..., 1038237, 1038238, 1038239])"
      ]
     },
     "execution_count": 8,
     "metadata": {},
     "output_type": "execute_result"
    }
   ],
   "source": [
    "x"
   ]
  },
  {
   "cell_type": "markdown",
   "metadata": {},
   "source": [
    "## Checking for NaN values"
   ]
  },
  {
   "cell_type": "code",
   "execution_count": 11,
   "metadata": {},
   "outputs": [
    {
     "data": {
      "text/plain": [
       "False"
      ]
     },
     "execution_count": 11,
     "metadata": {},
     "output_type": "execute_result"
    }
   ],
   "source": [
    "df.isnull().values.any()"
   ]
  },
  {
   "cell_type": "markdown",
   "metadata": {},
   "source": [
    "## Plotting the data"
   ]
  },
  {
   "cell_type": "code",
   "execution_count": 14,
   "metadata": {},
   "outputs": [
    {
     "data": {
      "image/png": "[encoded data removed]",
      "text/plain": [
       "<Figure size 432x288 with 1 Axes>"
      ]
     },
     "metadata": {
      "needs_background": "light"
     },
     "output_type": "display_data"
    }
   ],
   "source": [
    "plt.subplot()\n",
    "\n",
    "x = df.index\n",
    "\n",
    "plt.plot(x, df['Value_C'])\n",
    "plt.xlabel('Index')\n",
    "plt.ylabel('Value_C')\n",
    "plt.show()"
   ]
  },
  {
   "cell_type": "code",
   "execution_count": null,
   "metadata": {},
   "outputs": [],
   "source": []
  }
 ],
 "metadata": {
  "kernelspec": {
   "display_name": "Python 3",
   "language": "python",
   "name": "python3"
  },
  "language_info": {
   "codemirror_mode": {
    "name": "ipython",
    "version": 3
   },
   "file_extension": ".py",
   "mimetype": "text/x-python",
   "name": "python",
   "nbconvert_exporter": "python",
   "pygments_lexer": "ipython3",
   "version": "3.7.1"
  }
 },
 "nbformat": 4,
 "nbformat_minor": 2
}
