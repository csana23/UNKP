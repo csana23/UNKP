{
 "cells": [
  {
   "cell_type": "markdown",
   "metadata": {},
   "source": [
    "# Working with more data"
   ]
  },
  {
   "cell_type": "code",
   "execution_count": 2,
   "metadata": {},
   "outputs": [],
   "source": [
    "import pandas as pd\n",
    "\n",
    "import matplotlib.pyplot as plt\n",
    "from matplotlib import style\n",
    "from matplotlib.dates import DateFormatter\n",
    "\n",
    "import numpy as np\n",
    "from numpy import NaN\n",
    "\n",
    "from cassandra.cluster import Cluster\n",
    "from cassandra.metadata import KeyspaceMetadata"
   ]
  },
  {
   "cell_type": "code",
   "execution_count": 3,
   "metadata": {},
   "outputs": [],
   "source": [
    "cluster = Cluster([\"172.20.16.137\"], port=30241)\n",
    "keyspace_name = \"sensorhub\"\n",
    "session = cluster.connect(keyspace_name)"
   ]
  },
  {
   "cell_type": "code",
   "execution_count": 4,
   "metadata": {},
   "outputs": [],
   "source": [
    "query = \"SELECT sensor, datum, temperatureat2meter FROM erti_new WHERE datum >= '2017-01-01 00:00:00' AND  datum <= '2017-12-31 23:59:00' AND sensor=1\"\n",
    "df = pd.DataFrame(list(session.execute(query)))"
   ]
  },
  {
   "cell_type": "markdown",
   "metadata": {},
   "source": [
    "## Setting useless values to NaN"
   ]
  },
  {
   "cell_type": "code",
   "execution_count": 5,
   "metadata": {},
   "outputs": [
    {
     "data": {
      "text/plain": [
       "0   -7.2\n",
       "1   -7.2\n",
       "2   -7.1\n",
       "3   -8.4\n",
       "4   -7.9\n",
       "Name: temperatureat2meter, dtype: float64"
      ]
     },
     "execution_count": 5,
     "metadata": {},
     "output_type": "execute_result"
    }
   ],
   "source": [
    "df['temperatureat2meter'].head()"
   ]
  },
  {
   "cell_type": "code",
   "execution_count": 6,
   "metadata": {},
   "outputs": [],
   "source": [
    "df['temperatureat2meter'] = df['temperatureat2meter'].replace(to_replace=[-888.8, -777.7, -999.9], value=np.NaN)"
   ]
  },
  {
   "cell_type": "markdown",
   "metadata": {},
   "source": [
    "## Plot the data to discover missing periods"
   ]
  },
  {
   "cell_type": "code",
   "execution_count": 7,
   "metadata": {},
   "outputs": [
    {
     "data": {
      "text/plain": [
       "Text(0, 0.5, 'tempat2m')"
      ]
     },
     "execution_count": 7,
     "metadata": {},
     "output_type": "execute_result"
    },
    {
     "data": {
      "text/plain": [
       "<Figure size 432x288 with 0 Axes>"
      ]
     },
     "metadata": {},
     "output_type": "display_data"
    },
    {
     "data": {
      "image/png": "[encoded data removed]",
      "text/plain": [
       "<Figure size 432x288 with 1 Axes>"
      ]
     },
     "metadata": {},
     "output_type": "display_data"
    }
   ],
   "source": [
    "style.use('ggplot')\n",
    "\n",
    "plt.figure()\n",
    "my_dates = df['datum']\n",
    "fig, ax = plt.subplots()\n",
    "\n",
    "ax.plot(my_dates, df['temperatureat2meter'])\n",
    "\n",
    "fig.autofmt_xdate()\n",
    "ax.set_title('2017 tempat2m')\n",
    "\n",
    "plt.xlabel('datum')\n",
    "plt.ylabel('tempat2m')"
   ]
  },
  {
   "cell_type": "markdown",
   "metadata": {},
   "source": [
    "## Checking for the NaN values"
   ]
  },
  {
   "cell_type": "code",
   "execution_count": 8,
   "metadata": {},
   "outputs": [
    {
     "data": {
      "text/plain": [
       "True"
      ]
     },
     "execution_count": 8,
     "metadata": {},
     "output_type": "execute_result"
    }
   ],
   "source": [
    "df.isnull().values.any()"
   ]
  },
  {
   "cell_type": "markdown",
   "metadata": {},
   "source": [
    "## How does the end of the dataset look like?"
   ]
  },
  {
   "cell_type": "code",
   "execution_count": 9,
   "metadata": {},
   "outputs": [
    {
     "name": "stdout",
     "output_type": "stream",
     "text": [
      "       sensor               datum  temperatureat2meter\n",
      "51435       1 2017-12-31 23:10:01                  NaN\n",
      "51436       1 2017-12-31 23:20:01                  NaN\n",
      "51437       1 2017-12-31 23:30:01                  NaN\n",
      "51438       1 2017-12-31 23:40:01                  NaN\n",
      "51439       1 2017-12-31 23:50:01                  NaN\n"
     ]
    }
   ],
   "source": [
    "print(df.tail())"
   ]
  },
  {
   "cell_type": "code",
   "execution_count": 10,
   "metadata": {},
   "outputs": [
    {
     "data": {
      "text/html": [
       "<div>\n",
       "<style scoped>\n",
       "    .dataframe tbody tr th:only-of-type {\n",
       "        vertical-align: middle;\n",
       "    }\n",
       "\n",
       "    .dataframe tbody tr th {\n",
       "        vertical-align: top;\n",
       "    }\n",
       "\n",
       "    .dataframe thead th {\n",
       "        text-align: right;\n",
       "    }\n",
       "</style>\n",
       "<table border=\"1\" class=\"dataframe\">\n",
       "  <thead>\n",
       "    <tr style=\"text-align: right;\">\n",
       "      <th></th>\n",
       "      <th>sensor</th>\n",
       "      <th>datum</th>\n",
       "      <th>temperatureat2meter</th>\n",
       "    </tr>\n",
       "  </thead>\n",
       "  <tbody>\n",
       "    <tr>\n",
       "      <th>0</th>\n",
       "      <td>False</td>\n",
       "      <td>False</td>\n",
       "      <td>False</td>\n",
       "    </tr>\n",
       "    <tr>\n",
       "      <th>1</th>\n",
       "      <td>False</td>\n",
       "      <td>False</td>\n",
       "      <td>False</td>\n",
       "    </tr>\n",
       "    <tr>\n",
       "      <th>2</th>\n",
       "      <td>False</td>\n",
       "      <td>False</td>\n",
       "      <td>False</td>\n",
       "    </tr>\n",
       "    <tr>\n",
       "      <th>3</th>\n",
       "      <td>False</td>\n",
       "      <td>False</td>\n",
       "      <td>False</td>\n",
       "    </tr>\n",
       "    <tr>\n",
       "      <th>4</th>\n",
       "      <td>False</td>\n",
       "      <td>False</td>\n",
       "      <td>False</td>\n",
       "    </tr>\n",
       "    <tr>\n",
       "      <th>5</th>\n",
       "      <td>False</td>\n",
       "      <td>False</td>\n",
       "      <td>False</td>\n",
       "    </tr>\n",
       "    <tr>\n",
       "      <th>6</th>\n",
       "      <td>False</td>\n",
       "      <td>False</td>\n",
       "      <td>False</td>\n",
       "    </tr>\n",
       "    <tr>\n",
       "      <th>7</th>\n",
       "      <td>False</td>\n",
       "      <td>False</td>\n",
       "      <td>False</td>\n",
       "    </tr>\n",
       "    <tr>\n",
       "      <th>8</th>\n",
       "      <td>False</td>\n",
       "      <td>False</td>\n",
       "      <td>False</td>\n",
       "    </tr>\n",
       "    <tr>\n",
       "      <th>9</th>\n",
       "      <td>False</td>\n",
       "      <td>False</td>\n",
       "      <td>False</td>\n",
       "    </tr>\n",
       "    <tr>\n",
       "      <th>10</th>\n",
       "      <td>False</td>\n",
       "      <td>False</td>\n",
       "      <td>False</td>\n",
       "    </tr>\n",
       "    <tr>\n",
       "      <th>11</th>\n",
       "      <td>False</td>\n",
       "      <td>False</td>\n",
       "      <td>False</td>\n",
       "    </tr>\n",
       "    <tr>\n",
       "      <th>12</th>\n",
       "      <td>False</td>\n",
       "      <td>False</td>\n",
       "      <td>False</td>\n",
       "    </tr>\n",
       "    <tr>\n",
       "      <th>13</th>\n",
       "      <td>False</td>\n",
       "      <td>False</td>\n",
       "      <td>False</td>\n",
       "    </tr>\n",
       "    <tr>\n",
       "      <th>14</th>\n",
       "      <td>False</td>\n",
       "      <td>False</td>\n",
       "      <td>False</td>\n",
       "    </tr>\n",
       "    <tr>\n",
       "      <th>15</th>\n",
       "      <td>False</td>\n",
       "      <td>False</td>\n",
       "      <td>False</td>\n",
       "    </tr>\n",
       "    <tr>\n",
       "      <th>16</th>\n",
       "      <td>False</td>\n",
       "      <td>False</td>\n",
       "      <td>False</td>\n",
       "    </tr>\n",
       "    <tr>\n",
       "      <th>17</th>\n",
       "      <td>False</td>\n",
       "      <td>False</td>\n",
       "      <td>False</td>\n",
       "    </tr>\n",
       "    <tr>\n",
       "      <th>18</th>\n",
       "      <td>False</td>\n",
       "      <td>False</td>\n",
       "      <td>False</td>\n",
       "    </tr>\n",
       "    <tr>\n",
       "      <th>19</th>\n",
       "      <td>False</td>\n",
       "      <td>False</td>\n",
       "      <td>False</td>\n",
       "    </tr>\n",
       "    <tr>\n",
       "      <th>20</th>\n",
       "      <td>False</td>\n",
       "      <td>False</td>\n",
       "      <td>False</td>\n",
       "    </tr>\n",
       "    <tr>\n",
       "      <th>21</th>\n",
       "      <td>False</td>\n",
       "      <td>False</td>\n",
       "      <td>False</td>\n",
       "    </tr>\n",
       "    <tr>\n",
       "      <th>22</th>\n",
       "      <td>False</td>\n",
       "      <td>False</td>\n",
       "      <td>False</td>\n",
       "    </tr>\n",
       "    <tr>\n",
       "      <th>23</th>\n",
       "      <td>False</td>\n",
       "      <td>False</td>\n",
       "      <td>False</td>\n",
       "    </tr>\n",
       "    <tr>\n",
       "      <th>24</th>\n",
       "      <td>False</td>\n",
       "      <td>False</td>\n",
       "      <td>False</td>\n",
       "    </tr>\n",
       "    <tr>\n",
       "      <th>25</th>\n",
       "      <td>False</td>\n",
       "      <td>False</td>\n",
       "      <td>False</td>\n",
       "    </tr>\n",
       "    <tr>\n",
       "      <th>26</th>\n",
       "      <td>False</td>\n",
       "      <td>False</td>\n",
       "      <td>False</td>\n",
       "    </tr>\n",
       "    <tr>\n",
       "      <th>27</th>\n",
       "      <td>False</td>\n",
       "      <td>False</td>\n",
       "      <td>False</td>\n",
       "    </tr>\n",
       "    <tr>\n",
       "      <th>28</th>\n",
       "      <td>False</td>\n",
       "      <td>False</td>\n",
       "      <td>False</td>\n",
       "    </tr>\n",
       "    <tr>\n",
       "      <th>29</th>\n",
       "      <td>False</td>\n",
       "      <td>False</td>\n",
       "      <td>False</td>\n",
       "    </tr>\n",
       "    <tr>\n",
       "      <th>...</th>\n",
       "      <td>...</td>\n",
       "      <td>...</td>\n",
       "      <td>...</td>\n",
       "    </tr>\n",
       "    <tr>\n",
       "      <th>51410</th>\n",
       "      <td>False</td>\n",
       "      <td>False</td>\n",
       "      <td>True</td>\n",
       "    </tr>\n",
       "    <tr>\n",
       "      <th>51411</th>\n",
       "      <td>False</td>\n",
       "      <td>False</td>\n",
       "      <td>True</td>\n",
       "    </tr>\n",
       "    <tr>\n",
       "      <th>51412</th>\n",
       "      <td>False</td>\n",
       "      <td>False</td>\n",
       "      <td>True</td>\n",
       "    </tr>\n",
       "    <tr>\n",
       "      <th>51413</th>\n",
       "      <td>False</td>\n",
       "      <td>False</td>\n",
       "      <td>True</td>\n",
       "    </tr>\n",
       "    <tr>\n",
       "      <th>51414</th>\n",
       "      <td>False</td>\n",
       "      <td>False</td>\n",
       "      <td>True</td>\n",
       "    </tr>\n",
       "    <tr>\n",
       "      <th>51415</th>\n",
       "      <td>False</td>\n",
       "      <td>False</td>\n",
       "      <td>True</td>\n",
       "    </tr>\n",
       "    <tr>\n",
       "      <th>51416</th>\n",
       "      <td>False</td>\n",
       "      <td>False</td>\n",
       "      <td>True</td>\n",
       "    </tr>\n",
       "    <tr>\n",
       "      <th>51417</th>\n",
       "      <td>False</td>\n",
       "      <td>False</td>\n",
       "      <td>True</td>\n",
       "    </tr>\n",
       "    <tr>\n",
       "      <th>51418</th>\n",
       "      <td>False</td>\n",
       "      <td>False</td>\n",
       "      <td>True</td>\n",
       "    </tr>\n",
       "    <tr>\n",
       "      <th>51419</th>\n",
       "      <td>False</td>\n",
       "      <td>False</td>\n",
       "      <td>True</td>\n",
       "    </tr>\n",
       "    <tr>\n",
       "      <th>51420</th>\n",
       "      <td>False</td>\n",
       "      <td>False</td>\n",
       "      <td>True</td>\n",
       "    </tr>\n",
       "    <tr>\n",
       "      <th>51421</th>\n",
       "      <td>False</td>\n",
       "      <td>False</td>\n",
       "      <td>True</td>\n",
       "    </tr>\n",
       "    <tr>\n",
       "      <th>51422</th>\n",
       "      <td>False</td>\n",
       "      <td>False</td>\n",
       "      <td>True</td>\n",
       "    </tr>\n",
       "    <tr>\n",
       "      <th>51423</th>\n",
       "      <td>False</td>\n",
       "      <td>False</td>\n",
       "      <td>True</td>\n",
       "    </tr>\n",
       "    <tr>\n",
       "      <th>51424</th>\n",
       "      <td>False</td>\n",
       "      <td>False</td>\n",
       "      <td>True</td>\n",
       "    </tr>\n",
       "    <tr>\n",
       "      <th>51425</th>\n",
       "      <td>False</td>\n",
       "      <td>False</td>\n",
       "      <td>True</td>\n",
       "    </tr>\n",
       "    <tr>\n",
       "      <th>51426</th>\n",
       "      <td>False</td>\n",
       "      <td>False</td>\n",
       "      <td>True</td>\n",
       "    </tr>\n",
       "    <tr>\n",
       "      <th>51427</th>\n",
       "      <td>False</td>\n",
       "      <td>False</td>\n",
       "      <td>True</td>\n",
       "    </tr>\n",
       "    <tr>\n",
       "      <th>51428</th>\n",
       "      <td>False</td>\n",
       "      <td>False</td>\n",
       "      <td>True</td>\n",
       "    </tr>\n",
       "    <tr>\n",
       "      <th>51429</th>\n",
       "      <td>False</td>\n",
       "      <td>False</td>\n",
       "      <td>True</td>\n",
       "    </tr>\n",
       "    <tr>\n",
       "      <th>51430</th>\n",
       "      <td>False</td>\n",
       "      <td>False</td>\n",
       "      <td>True</td>\n",
       "    </tr>\n",
       "    <tr>\n",
       "      <th>51431</th>\n",
       "      <td>False</td>\n",
       "      <td>False</td>\n",
       "      <td>True</td>\n",
       "    </tr>\n",
       "    <tr>\n",
       "      <th>51432</th>\n",
       "      <td>False</td>\n",
       "      <td>False</td>\n",
       "      <td>True</td>\n",
       "    </tr>\n",
       "    <tr>\n",
       "      <th>51433</th>\n",
       "      <td>False</td>\n",
       "      <td>False</td>\n",
       "      <td>True</td>\n",
       "    </tr>\n",
       "    <tr>\n",
       "      <th>51434</th>\n",
       "      <td>False</td>\n",
       "      <td>False</td>\n",
       "      <td>True</td>\n",
       "    </tr>\n",
       "    <tr>\n",
       "      <th>51435</th>\n",
       "      <td>False</td>\n",
       "      <td>False</td>\n",
       "      <td>True</td>\n",
       "    </tr>\n",
       "    <tr>\n",
       "      <th>51436</th>\n",
       "      <td>False</td>\n",
       "      <td>False</td>\n",
       "      <td>True</td>\n",
       "    </tr>\n",
       "    <tr>\n",
       "      <th>51437</th>\n",
       "      <td>False</td>\n",
       "      <td>False</td>\n",
       "      <td>True</td>\n",
       "    </tr>\n",
       "    <tr>\n",
       "      <th>51438</th>\n",
       "      <td>False</td>\n",
       "      <td>False</td>\n",
       "      <td>True</td>\n",
       "    </tr>\n",
       "    <tr>\n",
       "      <th>51439</th>\n",
       "      <td>False</td>\n",
       "      <td>False</td>\n",
       "      <td>True</td>\n",
       "    </tr>\n",
       "  </tbody>\n",
       "</table>\n",
       "<p>51440 rows × 3 columns</p>\n",
       "</div>"
      ],
      "text/plain": [
       "       sensor  datum  temperatureat2meter\n",
       "0       False  False                False\n",
       "1       False  False                False\n",
       "2       False  False                False\n",
       "3       False  False                False\n",
       "4       False  False                False\n",
       "5       False  False                False\n",
       "6       False  False                False\n",
       "7       False  False                False\n",
       "8       False  False                False\n",
       "9       False  False                False\n",
       "10      False  False                False\n",
       "11      False  False                False\n",
       "12      False  False                False\n",
       "13      False  False                False\n",
       "14      False  False                False\n",
       "15      False  False                False\n",
       "16      False  False                False\n",
       "17      False  False                False\n",
       "18      False  False                False\n",
       "19      False  False                False\n",
       "20      False  False                False\n",
       "21      False  False                False\n",
       "22      False  False                False\n",
       "23      False  False                False\n",
       "24      False  False                False\n",
       "25      False  False                False\n",
       "26      False  False                False\n",
       "27      False  False                False\n",
       "28      False  False                False\n",
       "29      False  False                False\n",
       "...       ...    ...                  ...\n",
       "51410   False  False                 True\n",
       "51411   False  False                 True\n",
       "51412   False  False                 True\n",
       "51413   False  False                 True\n",
       "51414   False  False                 True\n",
       "51415   False  False                 True\n",
       "51416   False  False                 True\n",
       "51417   False  False                 True\n",
       "51418   False  False                 True\n",
       "51419   False  False                 True\n",
       "51420   False  False                 True\n",
       "51421   False  False                 True\n",
       "51422   False  False                 True\n",
       "51423   False  False                 True\n",
       "51424   False  False                 True\n",
       "51425   False  False                 True\n",
       "51426   False  False                 True\n",
       "51427   False  False                 True\n",
       "51428   False  False                 True\n",
       "51429   False  False                 True\n",
       "51430   False  False                 True\n",
       "51431   False  False                 True\n",
       "51432   False  False                 True\n",
       "51433   False  False                 True\n",
       "51434   False  False                 True\n",
       "51435   False  False                 True\n",
       "51436   False  False                 True\n",
       "51437   False  False                 True\n",
       "51438   False  False                 True\n",
       "51439   False  False                 True\n",
       "\n",
       "[51440 rows x 3 columns]"
      ]
     },
     "execution_count": 10,
     "metadata": {},
     "output_type": "execute_result"
    }
   ],
   "source": [
    "pd.isnull(df)"
   ]
  },
  {
   "cell_type": "markdown",
   "metadata": {},
   "source": [
    "## Does matplotlib automatically fill in missing data? (To make the graph continous)"
   ]
  },
  {
   "cell_type": "code",
   "execution_count": 11,
   "metadata": {},
   "outputs": [],
   "source": [
    "df['temperatureat2meter'] = df['temperatureat2meter'].replace(to_replace = np.NaN, value = -888.8)"
   ]
  },
  {
   "cell_type": "markdown",
   "metadata": {},
   "source": [
    "## Graph the result"
   ]
  },
  {
   "cell_type": "code",
   "execution_count": 12,
   "metadata": {},
   "outputs": [
    {
     "data": {
      "text/plain": [
       "Text(0, 0.5, 'tempat2m')"
      ]
     },
     "execution_count": 12,
     "metadata": {},
     "output_type": "execute_result"
    },
    {
     "data": {
      "text/plain": [
       "<Figure size 432x288 with 0 Axes>"
      ]
     },
     "metadata": {},
     "output_type": "display_data"
    },
    {
     "data": {
      "image/png": "[encoded data removed]",
      "text/plain": [
       "<Figure size 432x288 with 1 Axes>"
      ]
     },
     "metadata": {},
     "output_type": "display_data"
    }
   ],
   "source": [
    "plt.figure()\n",
    "\n",
    "fig, ax = plt.subplots()\n",
    "\n",
    "ax.plot(my_dates, df['temperatureat2meter'])\n",
    "fig.autofmt_xdate()\n",
    "ax.set_title('2017 tempat2m')\n",
    "\n",
    "plt.xlabel('datum')\n",
    "plt.ylabel('tempat2m')"
   ]
  },
  {
   "cell_type": "markdown",
   "metadata": {},
   "source": [
    "## Create months column"
   ]
  },
  {
   "cell_type": "code",
   "execution_count": 14,
   "metadata": {},
   "outputs": [
    {
     "name": "stdout",
     "output_type": "stream",
     "text": [
      "   index  month\n",
      "0      0      1\n",
      "1      1      1\n",
      "2      2      1\n",
      "3      3      1\n",
      "4      4      1\n"
     ]
    }
   ],
   "source": [
    "df['date'] = df['datum'].dt.date\n",
    "df['date'] = pd.to_datetime(df['date'])\n",
    "df['month'] = df['date'].dt.month\n",
    "\n",
    "print(df['month'].reset_index().head())"
   ]
  },
  {
   "cell_type": "markdown",
   "metadata": {},
   "source": [
    "## Checking those -888.8 values"
   ]
  },
  {
   "cell_type": "code",
   "execution_count": 19,
   "metadata": {},
   "outputs": [
    {
     "name": "stdout",
     "output_type": "stream",
     "text": [
      "                     sensor               datum       date  month\n",
      "temperatureat2meter                                              \n",
      "-888.8                    1 2017-03-30 05:00:01 2017-03-30      3\n",
      "-888.8                    1 2017-03-30 05:10:01 2017-03-30      3\n",
      "-888.8                    1 2017-03-30 05:20:01 2017-03-30      3\n",
      "-888.8                    1 2017-03-30 05:30:01 2017-03-30      3\n",
      "-888.8                    1 2017-03-31 07:10:01 2017-03-31      3\n",
      "-888.8                    1 2017-03-31 07:20:01 2017-03-31      3\n",
      "-888.8                    1 2017-03-31 07:30:01 2017-03-31      3\n",
      "-888.8                    1 2017-03-31 07:40:01 2017-03-31      3\n",
      "-888.8                    1 2017-04-02 05:00:01 2017-04-02      4\n",
      "-888.8                    1 2017-04-02 05:10:01 2017-04-02      4\n",
      "-888.8                    1 2017-04-02 05:20:01 2017-04-02      4\n",
      "-888.8                    1 2017-04-02 05:30:01 2017-04-02      4\n",
      "-888.8                    1 2017-04-02 05:40:01 2017-04-02      4\n",
      "-888.8                    1 2017-04-02 05:50:01 2017-04-02      4\n",
      "-888.8                    1 2017-04-02 06:00:01 2017-04-02      4\n",
      "-888.8                    1 2017-04-02 06:10:01 2017-04-02      4\n",
      "-888.8                    1 2017-04-02 06:20:01 2017-04-02      4\n",
      "-888.8                    1 2017-04-02 06:30:01 2017-04-02      4\n",
      "-888.8                    1 2017-04-02 06:40:01 2017-04-02      4\n",
      "-888.8                    1 2017-04-02 06:50:01 2017-04-02      4\n",
      "-888.8                    1 2017-04-02 07:00:01 2017-04-02      4\n",
      "-888.8                    1 2017-04-03 04:50:01 2017-04-03      4\n",
      "-888.8                    1 2017-04-03 05:00:01 2017-04-03      4\n",
      "-888.8                    1 2017-04-03 05:10:01 2017-04-03      4\n",
      "-888.8                    1 2017-04-03 05:20:01 2017-04-03      4\n",
      "-888.8                    1 2017-04-04 05:50:01 2017-04-04      4\n",
      "-888.8                    1 2017-04-04 06:00:01 2017-04-04      4\n",
      "-888.8                    1 2017-04-04 06:10:01 2017-04-04      4\n",
      "-888.8                    1 2017-04-04 06:20:01 2017-04-04      4\n",
      "-888.8                    1 2017-04-04 06:30:01 2017-04-04      4\n",
      "...                     ...                 ...        ...    ...\n",
      "-888.8                    1 2017-12-31 19:00:01 2017-12-31     12\n",
      "-888.8                    1 2017-12-31 19:10:01 2017-12-31     12\n",
      "-888.8                    1 2017-12-31 19:20:01 2017-12-31     12\n",
      "-888.8                    1 2017-12-31 19:30:01 2017-12-31     12\n",
      "-888.8                    1 2017-12-31 19:40:01 2017-12-31     12\n",
      "-888.8                    1 2017-12-31 19:50:01 2017-12-31     12\n",
      "-888.8                    1 2017-12-31 20:00:01 2017-12-31     12\n",
      "-888.8                    1 2017-12-31 20:10:01 2017-12-31     12\n",
      "-888.8                    1 2017-12-31 20:20:01 2017-12-31     12\n",
      "-888.8                    1 2017-12-31 20:30:01 2017-12-31     12\n",
      "-888.8                    1 2017-12-31 20:40:01 2017-12-31     12\n",
      "-888.8                    1 2017-12-31 20:50:01 2017-12-31     12\n",
      "-888.8                    1 2017-12-31 21:00:01 2017-12-31     12\n",
      "-888.8                    1 2017-12-31 21:10:01 2017-12-31     12\n",
      "-888.8                    1 2017-12-31 21:20:01 2017-12-31     12\n",
      "-888.8                    1 2017-12-31 21:30:01 2017-12-31     12\n",
      "-888.8                    1 2017-12-31 21:40:01 2017-12-31     12\n",
      "-888.8                    1 2017-12-31 21:50:01 2017-12-31     12\n",
      "-888.8                    1 2017-12-31 22:00:01 2017-12-31     12\n",
      "-888.8                    1 2017-12-31 22:10:01 2017-12-31     12\n",
      "-888.8                    1 2017-12-31 22:20:01 2017-12-31     12\n",
      "-888.8                    1 2017-12-31 22:30:01 2017-12-31     12\n",
      "-888.8                    1 2017-12-31 22:40:01 2017-12-31     12\n",
      "-888.8                    1 2017-12-31 22:50:01 2017-12-31     12\n",
      "-888.8                    1 2017-12-31 23:00:01 2017-12-31     12\n",
      "-888.8                    1 2017-12-31 23:10:01 2017-12-31     12\n",
      "-888.8                    1 2017-12-31 23:20:01 2017-12-31     12\n",
      "-888.8                    1 2017-12-31 23:30:01 2017-12-31     12\n",
      "-888.8                    1 2017-12-31 23:40:01 2017-12-31     12\n",
      "-888.8                    1 2017-12-31 23:50:01 2017-12-31     12\n",
      "\n",
      "[13461 rows x 4 columns]\n"
     ]
    }
   ],
   "source": [
    "res = df.set_index('temperatureat2meter').loc[-888.8]\n",
    "\n",
    "print(res)"
   ]
  },
  {
   "cell_type": "code",
   "execution_count": null,
   "metadata": {},
   "outputs": [],
   "source": []
  }
 ],
 "metadata": {
  "kernelspec": {
   "display_name": "Python 3",
   "language": "python",
   "name": "python3"
  },
  "language_info": {
   "codemirror_mode": {
    "name": "ipython",
    "version": 3
   },
   "file_extension": ".py",
   "mimetype": "text/x-python",
   "name": "python",
   "nbconvert_exporter": "python",
   "pygments_lexer": "ipython3",
   "version": "3.7.1"
  }
 },
 "nbformat": 4,
 "nbformat_minor": 2
}
